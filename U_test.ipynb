{
 "cells": [
  {
   "cell_type": "code",
   "execution_count": 49,
   "metadata": {},
   "outputs": [],
   "source": [
    "from scipy.stats import mannwhitneyu\n",
    "import json\n",
    "import numpy as np\n",
    "import os\n",
    "import pandas as pd"
   ]
  },
  {
   "cell_type": "code",
   "execution_count": 50,
   "metadata": {},
   "outputs": [],
   "source": [
    "datasets_avg_test_accuracy_bal = []\n",
    "datasets_avg_train_accuracy_bal = []\n",
    "datasets_test_std_bal = []\n",
    "datasets_train_std_bal = []\n",
    "datasets_test_max_bal = []\n",
    "datasets_train_max_bal = []\n",
    "datasets_test_min_bal = []\n",
    "datasets_train_min_bal = []\n",
    "\n",
    "datasets_avg_test_accuracy_BP = []\n",
    "datasets_avg_train_accuracy_BP = []\n",
    "datasets_test_std_BP = []\n",
    "datasets_train_std_BP = []\n",
    "datasets_test_max_BP = []\n",
    "datasets_train_max_BP = []\n",
    "datasets_test_min_BP = []\n",
    "datasets_train_min_BP = []\n",
    "dataset_names = []\n",
    "\n",
    "U1_test = []\n",
    "U2_test = []"
   ]
  },
  {
   "cell_type": "code",
   "execution_count": 51,
   "metadata": {},
   "outputs": [],
   "source": [
    "for name in os.listdir(\"datasets\"):\n",
    "\n",
    "    data_test_bal = np.array(json.load(open(\"data_balanced_accuracy/{}/{}_test_vector.json\".format(name, name))))\n",
    "    data_test_BP = np.array(json.load(open(\"data_BP/{}/{}_test_vector.json\".format(name, name))))\n",
    "    data_train_bal = np.array(json.load(open(\"data_balanced_accuracy/{}/{}_train_vector.json\".format(name, name))))\n",
    "    data_train_BP = np.array(json.load(open(\"data_BP/{}/{}_train_vector.json\".format(name, name))))\n",
    "\n",
    "    dataset_names.append(str(name))\n",
    "    datasets_avg_test_accuracy_bal.append(data_test_bal.mean())\n",
    "    datasets_avg_train_accuracy_bal.append(data_train_bal.mean())\n",
    "    datasets_test_std_bal.append(data_test_bal.std())\n",
    "    datasets_train_std_bal.append(data_train_bal.std())\n",
    "    datasets_test_max_bal.append(data_test_bal.max())\n",
    "    datasets_train_max_bal.append(data_train_bal.max())\n",
    "    datasets_test_min_bal.append(data_test_bal.min())\n",
    "    datasets_train_min_bal.append(data_train_bal.min())\n",
    "\n",
    "    datasets_avg_test_accuracy_BP.append(data_test_BP.mean())\n",
    "    datasets_avg_train_accuracy_BP.append(data_train_BP.mean())\n",
    "    datasets_test_std_BP.append(data_test_BP.std())\n",
    "    datasets_train_std_BP.append(data_train_BP.std())\n",
    "    datasets_test_max_BP.append(data_test_BP.max())\n",
    "    datasets_train_max_BP.append(data_train_BP.max())\n",
    "    datasets_test_min_BP.append(data_test_BP.min())\n",
    "    datasets_train_min_BP.append(data_train_BP.min())"
   ]
  },
  {
   "cell_type": "code",
   "execution_count": 52,
   "metadata": {},
   "outputs": [
    {
     "name": "stdout",
     "output_type": "stream",
     "text": [
      "(12,)\n"
     ]
    }
   ],
   "source": [
    "print(np.array(datasets_avg_test_accuracy_bal).shape)"
   ]
  },
  {
   "cell_type": "code",
   "execution_count": 53,
   "metadata": {},
   "outputs": [],
   "source": [
    "rows_bal_test = [datasets_avg_test_accuracy_bal, datasets_test_std_bal,\n",
    "                                datasets_test_max_bal, datasets_test_min_bal]\n",
    "\n",
    "rows_bal_train = [datasets_avg_train_accuracy_bal, datasets_train_std_bal,\n",
    "                                datasets_train_max_bal, datasets_train_min_bal]\n",
    "\n",
    "rows_BP_test = [datasets_avg_test_accuracy_BP, datasets_test_std_BP,\n",
    "                                datasets_test_max_BP, datasets_test_min_BP]\n",
    "\n",
    "rows_BP_train = [datasets_avg_train_accuracy_BP, datasets_train_std_BP,\n",
    "                                datasets_train_max_BP, datasets_train_min_BP]"
   ]
  },
  {
   "cell_type": "code",
   "execution_count": 55,
   "metadata": {},
   "outputs": [],
   "source": [
    "df_bal_test = pd.DataFrame(data=rows_bal_test, index = [\"avg\", \"std\", \"max\", \"min\"], columns=pd.Index(dataset_names, name=\"BAL_TEST\"))\n",
    "df_bal_train = pd.DataFrame(data=rows_bal_train, index = [\"avg\", \"std\", \"max\", \"min\"], columns=pd.Index(dataset_names, name=\"BAL_TRAIN\"))\n",
    "df_BP_test = pd.DataFrame(data=rows_BP_test, index = [\"avg\", \"std\", \"max\", \"min\"], columns=pd.Index(dataset_names, name=\"BP_TEST\"))\n",
    "df_BP_train = pd.DataFrame(data=rows_BP_train, index = [\"avg\", \"std\", \"max\", \"min\"], columns=pd.Index(dataset_names, name=\"BP_TRAIN\"))"
   ]
  },
  {
   "cell_type": "code",
   "execution_count": 56,
   "metadata": {},
   "outputs": [
    {
     "data": {
      "text/html": [
       "<style  type=\"text/css\" >\n",
       "</style><table id=\"T_9fa4b_\" ><thead>    <tr>        <th class=\"index_name level0\" >BAL_TEST</th>        <th class=\"col_heading level0 col0\" >balance</th>        <th class=\"col_heading level0 col1\" >blood</th>        <th class=\"col_heading level0 col2\" >breast</th>        <th class=\"col_heading level0 col3\" >diabetes</th>        <th class=\"col_heading level0 col4\" >iris</th>        <th class=\"col_heading level0 col5\" >liver</th>        <th class=\"col_heading level0 col6\" >nursery</th>        <th class=\"col_heading level0 col7\" >parkinson</th>        <th class=\"col_heading level0 col8\" >seeds</th>        <th class=\"col_heading level0 col9\" >tictactoe</th>        <th class=\"col_heading level0 col10\" >vertebral</th>        <th class=\"col_heading level0 col11\" >wine</th>    </tr></thead><tbody>\n",
       "                <tr>\n",
       "                        <th id=\"T_9fa4b_level0_row0\" class=\"row_heading level0 row0\" >avg</th>\n",
       "                        <td id=\"T_9fa4b_row0_col0\" class=\"data row0 col0\" >0.894681</td>\n",
       "                        <td id=\"T_9fa4b_row0_col1\" class=\"data row0 col1\" >0.651556</td>\n",
       "                        <td id=\"T_9fa4b_row0_col2\" class=\"data row0 col2\" >0.964133</td>\n",
       "                        <td id=\"T_9fa4b_row0_col3\" class=\"data row0 col3\" >0.723810</td>\n",
       "                        <td id=\"T_9fa4b_row0_col4\" class=\"data row0 col4\" >0.952593</td>\n",
       "                        <td id=\"T_9fa4b_row0_col5\" class=\"data row0 col5\" >0.637333</td>\n",
       "                        <td id=\"T_9fa4b_row0_col6\" class=\"data row0 col6\" >0.930159</td>\n",
       "                        <td id=\"T_9fa4b_row0_col7\" class=\"data row0 col7\" >0.861017</td>\n",
       "                        <td id=\"T_9fa4b_row0_col8\" class=\"data row0 col8\" >0.918519</td>\n",
       "                        <td id=\"T_9fa4b_row0_col9\" class=\"data row0 col9\" >0.915046</td>\n",
       "                        <td id=\"T_9fa4b_row0_col10\" class=\"data row0 col10\" >0.770609</td>\n",
       "                        <td id=\"T_9fa4b_row0_col11\" class=\"data row0 col11\" >0.951852</td>\n",
       "            </tr>\n",
       "            <tr>\n",
       "                        <th id=\"T_9fa4b_level0_row1\" class=\"row_heading level0 row1\" >std</th>\n",
       "                        <td id=\"T_9fa4b_row1_col0\" class=\"data row1 col0\" >0.018549</td>\n",
       "                        <td id=\"T_9fa4b_row1_col1\" class=\"data row1 col1\" >0.012444</td>\n",
       "                        <td id=\"T_9fa4b_row1_col2\" class=\"data row1 col2\" >0.015672</td>\n",
       "                        <td id=\"T_9fa4b_row1_col3\" class=\"data row1 col3\" >0.024087</td>\n",
       "                        <td id=\"T_9fa4b_row1_col4\" class=\"data row1 col4\" >0.039642</td>\n",
       "                        <td id=\"T_9fa4b_row1_col5\" class=\"data row1 col5\" >0.019108</td>\n",
       "                        <td id=\"T_9fa4b_row1_col6\" class=\"data row1 col6\" >0.034059</td>\n",
       "                        <td id=\"T_9fa4b_row1_col7\" class=\"data row1 col7\" >0.045982</td>\n",
       "                        <td id=\"T_9fa4b_row1_col8\" class=\"data row1 col8\" >0.028316</td>\n",
       "                        <td id=\"T_9fa4b_row1_col9\" class=\"data row1 col9\" >0.041857</td>\n",
       "                        <td id=\"T_9fa4b_row1_col10\" class=\"data row1 col10\" >0.036762</td>\n",
       "                        <td id=\"T_9fa4b_row1_col11\" class=\"data row1 col11\" >0.030839</td>\n",
       "            </tr>\n",
       "            <tr>\n",
       "                        <th id=\"T_9fa4b_level0_row2\" class=\"row_heading level0 row2\" >max</th>\n",
       "                        <td id=\"T_9fa4b_row2_col0\" class=\"data row2 col0\" >0.914894</td>\n",
       "                        <td id=\"T_9fa4b_row2_col1\" class=\"data row2 col1\" >0.688889</td>\n",
       "                        <td id=\"T_9fa4b_row2_col2\" class=\"data row2 col2\" >0.988304</td>\n",
       "                        <td id=\"T_9fa4b_row2_col3\" class=\"data row2 col3\" >0.757576</td>\n",
       "                        <td id=\"T_9fa4b_row2_col4\" class=\"data row2 col4\" >1.000000</td>\n",
       "                        <td id=\"T_9fa4b_row2_col5\" class=\"data row2 col5\" >0.674286</td>\n",
       "                        <td id=\"T_9fa4b_row2_col6\" class=\"data row2 col6\" >0.971429</td>\n",
       "                        <td id=\"T_9fa4b_row2_col7\" class=\"data row2 col7\" >0.932203</td>\n",
       "                        <td id=\"T_9fa4b_row2_col8\" class=\"data row2 col8\" >0.968254</td>\n",
       "                        <td id=\"T_9fa4b_row2_col9\" class=\"data row2 col9\" >0.968750</td>\n",
       "                        <td id=\"T_9fa4b_row2_col10\" class=\"data row2 col10\" >0.817204</td>\n",
       "                        <td id=\"T_9fa4b_row2_col11\" class=\"data row2 col11\" >1.000000</td>\n",
       "            </tr>\n",
       "            <tr>\n",
       "                        <th id=\"T_9fa4b_level0_row3\" class=\"row_heading level0 row3\" >min</th>\n",
       "                        <td id=\"T_9fa4b_row3_col0\" class=\"data row3 col0\" >0.851064</td>\n",
       "                        <td id=\"T_9fa4b_row3_col1\" class=\"data row3 col1\" >0.635556</td>\n",
       "                        <td id=\"T_9fa4b_row3_col2\" class=\"data row3 col2\" >0.923977</td>\n",
       "                        <td id=\"T_9fa4b_row3_col3\" class=\"data row3 col3\" >0.658009</td>\n",
       "                        <td id=\"T_9fa4b_row3_col4\" class=\"data row3 col4\" >0.866667</td>\n",
       "                        <td id=\"T_9fa4b_row3_col5\" class=\"data row3 col5\" >0.611429</td>\n",
       "                        <td id=\"T_9fa4b_row3_col6\" class=\"data row3 col6\" >0.828571</td>\n",
       "                        <td id=\"T_9fa4b_row3_col7\" class=\"data row3 col7\" >0.779661</td>\n",
       "                        <td id=\"T_9fa4b_row3_col8\" class=\"data row3 col8\" >0.841270</td>\n",
       "                        <td id=\"T_9fa4b_row3_col9\" class=\"data row3 col9\" >0.795139</td>\n",
       "                        <td id=\"T_9fa4b_row3_col10\" class=\"data row3 col10\" >0.677419</td>\n",
       "                        <td id=\"T_9fa4b_row3_col11\" class=\"data row3 col11\" >0.907407</td>\n",
       "            </tr>\n",
       "    </tbody></table>"
      ],
      "text/plain": [
       "<pandas.io.formats.style.Styler at 0x1a1a73b7970>"
      ]
     },
     "execution_count": 56,
     "metadata": {},
     "output_type": "execute_result"
    }
   ],
   "source": [
    "df_bal_test.style"
   ]
  },
  {
   "cell_type": "code",
   "execution_count": 57,
   "metadata": {},
   "outputs": [
    {
     "data": {
      "text/html": [
       "<style  type=\"text/css\" >\n",
       "</style><table id=\"T_64935_\" ><thead>    <tr>        <th class=\"index_name level0\" >BAL_TRAIN</th>        <th class=\"col_heading level0 col0\" >balance</th>        <th class=\"col_heading level0 col1\" >blood</th>        <th class=\"col_heading level0 col2\" >breast</th>        <th class=\"col_heading level0 col3\" >diabetes</th>        <th class=\"col_heading level0 col4\" >iris</th>        <th class=\"col_heading level0 col5\" >liver</th>        <th class=\"col_heading level0 col6\" >nursery</th>        <th class=\"col_heading level0 col7\" >parkinson</th>        <th class=\"col_heading level0 col8\" >seeds</th>        <th class=\"col_heading level0 col9\" >tictactoe</th>        <th class=\"col_heading level0 col10\" >vertebral</th>        <th class=\"col_heading level0 col11\" >wine</th>    </tr></thead><tbody>\n",
       "                <tr>\n",
       "                        <th id=\"T_64935_level0_row0\" class=\"row_heading level0 row0\" >avg</th>\n",
       "                        <td id=\"T_64935_row0_col0\" class=\"data row0 col0\" >0.910388</td>\n",
       "                        <td id=\"T_64935_row0_col1\" class=\"data row0 col1\" >0.736320</td>\n",
       "                        <td id=\"T_64935_row0_col2\" class=\"data row0 col2\" >0.988603</td>\n",
       "                        <td id=\"T_64935_row0_col3\" class=\"data row0 col3\" >0.793650</td>\n",
       "                        <td id=\"T_64935_row0_col4\" class=\"data row0 col4\" >0.985522</td>\n",
       "                        <td id=\"T_64935_row0_col5\" class=\"data row0 col5\" >0.746245</td>\n",
       "                        <td id=\"T_64935_row0_col6\" class=\"data row0 col6\" >0.968584</td>\n",
       "                        <td id=\"T_64935_row0_col7\" class=\"data row0 col7\" >0.958296</td>\n",
       "                        <td id=\"T_64935_row0_col8\" class=\"data row0 col8\" >0.980392</td>\n",
       "                        <td id=\"T_64935_row0_col9\" class=\"data row0 col9\" >0.938504</td>\n",
       "                        <td id=\"T_64935_row0_col10\" class=\"data row0 col10\" >0.882857</td>\n",
       "                        <td id=\"T_64935_row0_col11\" class=\"data row0 col11\" >0.997238</td>\n",
       "            </tr>\n",
       "            <tr>\n",
       "                        <th id=\"T_64935_level0_row1\" class=\"row_heading level0 row1\" >std</th>\n",
       "                        <td id=\"T_64935_row1_col0\" class=\"data row1 col0\" >0.023555</td>\n",
       "                        <td id=\"T_64935_row1_col1\" class=\"data row1 col1\" >0.004146</td>\n",
       "                        <td id=\"T_64935_row1_col2\" class=\"data row1 col2\" >0.003023</td>\n",
       "                        <td id=\"T_64935_row1_col3\" class=\"data row1 col3\" >0.007646</td>\n",
       "                        <td id=\"T_64935_row1_col4\" class=\"data row1 col4\" >0.005853</td>\n",
       "                        <td id=\"T_64935_row1_col5\" class=\"data row1 col5\" >0.006206</td>\n",
       "                        <td id=\"T_64935_row1_col6\" class=\"data row1 col6\" >0.012429</td>\n",
       "                        <td id=\"T_64935_row1_col7\" class=\"data row1 col7\" >0.010383</td>\n",
       "                        <td id=\"T_64935_row1_col8\" class=\"data row1 col8\" >0.007253</td>\n",
       "                        <td id=\"T_64935_row1_col9\" class=\"data row1 col9\" >0.029875</td>\n",
       "                        <td id=\"T_64935_row1_col10\" class=\"data row1 col10\" >0.007427</td>\n",
       "                        <td id=\"T_64935_row1_col11\" class=\"data row1 col11\" >0.003977</td>\n",
       "            </tr>\n",
       "            <tr>\n",
       "                        <th id=\"T_64935_level0_row2\" class=\"row_heading level0 row2\" >max</th>\n",
       "                        <td id=\"T_64935_row2_col0\" class=\"data row2 col0\" >0.929116</td>\n",
       "                        <td id=\"T_64935_row2_col1\" class=\"data row2 col1\" >0.744725</td>\n",
       "                        <td id=\"T_64935_row2_col2\" class=\"data row2 col2\" >0.992593</td>\n",
       "                        <td id=\"T_64935_row2_col3\" class=\"data row2 col3\" >0.809367</td>\n",
       "                        <td id=\"T_64935_row2_col4\" class=\"data row2 col4\" >0.991228</td>\n",
       "                        <td id=\"T_64935_row2_col5\" class=\"data row2 col5\" >0.758896</td>\n",
       "                        <td id=\"T_64935_row2_col6\" class=\"data row2 col6\" >0.983452</td>\n",
       "                        <td id=\"T_64935_row2_col7\" class=\"data row2 col7\" >0.975000</td>\n",
       "                        <td id=\"T_64935_row2_col8\" class=\"data row2 col8\" >0.993197</td>\n",
       "                        <td id=\"T_64935_row2_col9\" class=\"data row2 col9\" >0.975898</td>\n",
       "                        <td id=\"T_64935_row2_col10\" class=\"data row2 col10\" >0.895238</td>\n",
       "                        <td id=\"T_64935_row2_col11\" class=\"data row2 col11\" >1.000000</td>\n",
       "            </tr>\n",
       "            <tr>\n",
       "                        <th id=\"T_64935_level0_row3\" class=\"row_heading level0 row3\" >min</th>\n",
       "                        <td id=\"T_64935_row3_col0\" class=\"data row3 col0\" >0.828903</td>\n",
       "                        <td id=\"T_64935_row3_col1\" class=\"data row3 col1\" >0.731973</td>\n",
       "                        <td id=\"T_64935_row3_col2\" class=\"data row3 col2\" >0.983284</td>\n",
       "                        <td id=\"T_64935_row3_col3\" class=\"data row3 col3\" >0.783937</td>\n",
       "                        <td id=\"T_64935_row3_col4\" class=\"data row3 col4\" >0.971026</td>\n",
       "                        <td id=\"T_64935_row3_col5\" class=\"data row3 col5\" >0.733581</td>\n",
       "                        <td id=\"T_64935_row3_col6\" class=\"data row3 col6\" >0.939716</td>\n",
       "                        <td id=\"T_64935_row3_col7\" class=\"data row3 col7\" >0.935000</td>\n",
       "                        <td id=\"T_64935_row3_col8\" class=\"data row3 col8\" >0.965964</td>\n",
       "                        <td id=\"T_64935_row3_col9\" class=\"data row3 col9\" >0.854756</td>\n",
       "                        <td id=\"T_64935_row3_col10\" class=\"data row3 col10\" >0.866667</td>\n",
       "                        <td id=\"T_64935_row3_col11\" class=\"data row3 col11\" >0.990196</td>\n",
       "            </tr>\n",
       "    </tbody></table>"
      ],
      "text/plain": [
       "<pandas.io.formats.style.Styler at 0x1a1a73b7850>"
      ]
     },
     "execution_count": 57,
     "metadata": {},
     "output_type": "execute_result"
    }
   ],
   "source": [
    "df_bal_train.style"
   ]
  },
  {
   "cell_type": "code",
   "execution_count": 58,
   "metadata": {},
   "outputs": [
    {
     "data": {
      "text/html": [
       "<style  type=\"text/css\" >\n",
       "</style><table id=\"T_29ace_\" ><thead>    <tr>        <th class=\"index_name level0\" >BP_TEST</th>        <th class=\"col_heading level0 col0\" >balance</th>        <th class=\"col_heading level0 col1\" >blood</th>        <th class=\"col_heading level0 col2\" >breast</th>        <th class=\"col_heading level0 col3\" >diabetes</th>        <th class=\"col_heading level0 col4\" >iris</th>        <th class=\"col_heading level0 col5\" >liver</th>        <th class=\"col_heading level0 col6\" >nursery</th>        <th class=\"col_heading level0 col7\" >parkinson</th>        <th class=\"col_heading level0 col8\" >seeds</th>        <th class=\"col_heading level0 col9\" >tictactoe</th>        <th class=\"col_heading level0 col10\" >vertebral</th>        <th class=\"col_heading level0 col11\" >wine</th>    </tr></thead><tbody>\n",
       "                <tr>\n",
       "                        <th id=\"T_29ace_level0_row0\" class=\"row_heading level0 row0\" >avg</th>\n",
       "                        <td id=\"T_29ace_row0_col0\" class=\"data row0 col0\" >0.887234</td>\n",
       "                        <td id=\"T_29ace_row0_col1\" class=\"data row0 col1\" >0.788741</td>\n",
       "                        <td id=\"T_29ace_row0_col2\" class=\"data row0 col2\" >0.953606</td>\n",
       "                        <td id=\"T_29ace_row0_col3\" class=\"data row0 col3\" >0.738528</td>\n",
       "                        <td id=\"T_29ace_row0_col4\" class=\"data row0 col4\" >0.845926</td>\n",
       "                        <td id=\"T_29ace_row0_col5\" class=\"data row0 col5\" >0.701333</td>\n",
       "                        <td id=\"T_29ace_row0_col6\" class=\"data row0 col6\" >0.902222</td>\n",
       "                        <td id=\"T_29ace_row0_col7\" class=\"data row0 col7\" >0.903955</td>\n",
       "                        <td id=\"T_29ace_row0_col8\" class=\"data row0 col8\" >0.847619</td>\n",
       "                        <td id=\"T_29ace_row0_col9\" class=\"data row0 col9\" >0.707870</td>\n",
       "                        <td id=\"T_29ace_row0_col10\" class=\"data row0 col10\" >0.700358</td>\n",
       "                        <td id=\"T_29ace_row0_col11\" class=\"data row0 col11\" >0.950617</td>\n",
       "            </tr>\n",
       "            <tr>\n",
       "                        <th id=\"T_29ace_level0_row1\" class=\"row_heading level0 row1\" >std</th>\n",
       "                        <td id=\"T_29ace_row1_col0\" class=\"data row1 col0\" >0.009555</td>\n",
       "                        <td id=\"T_29ace_row1_col1\" class=\"data row1 col1\" >0.009304</td>\n",
       "                        <td id=\"T_29ace_row1_col2\" class=\"data row1 col2\" >0.007540</td>\n",
       "                        <td id=\"T_29ace_row1_col3\" class=\"data row1 col3\" >0.020476</td>\n",
       "                        <td id=\"T_29ace_row1_col4\" class=\"data row1 col4\" >0.092329</td>\n",
       "                        <td id=\"T_29ace_row1_col5\" class=\"data row1 col5\" >0.004410</td>\n",
       "                        <td id=\"T_29ace_row1_col6\" class=\"data row1 col6\" >0.014324</td>\n",
       "                        <td id=\"T_29ace_row1_col7\" class=\"data row1 col7\" >0.018220</td>\n",
       "                        <td id=\"T_29ace_row1_col8\" class=\"data row1 col8\" >0.036103</td>\n",
       "                        <td id=\"T_29ace_row1_col9\" class=\"data row1 col9\" >0.024085</td>\n",
       "                        <td id=\"T_29ace_row1_col10\" class=\"data row1 col10\" >0.034424</td>\n",
       "                        <td id=\"T_29ace_row1_col11\" class=\"data row1 col11\" >0.025897</td>\n",
       "            </tr>\n",
       "            <tr>\n",
       "                        <th id=\"T_29ace_level0_row2\" class=\"row_heading level0 row2\" >max</th>\n",
       "                        <td id=\"T_29ace_row2_col0\" class=\"data row2 col0\" >0.904255</td>\n",
       "                        <td id=\"T_29ace_row2_col1\" class=\"data row2 col1\" >0.804444</td>\n",
       "                        <td id=\"T_29ace_row2_col2\" class=\"data row2 col2\" >0.970760</td>\n",
       "                        <td id=\"T_29ace_row2_col3\" class=\"data row2 col3\" >0.783550</td>\n",
       "                        <td id=\"T_29ace_row2_col4\" class=\"data row2 col4\" >0.955556</td>\n",
       "                        <td id=\"T_29ace_row2_col5\" class=\"data row2 col5\" >0.708571</td>\n",
       "                        <td id=\"T_29ace_row2_col6\" class=\"data row2 col6\" >0.914286</td>\n",
       "                        <td id=\"T_29ace_row2_col7\" class=\"data row2 col7\" >0.932203</td>\n",
       "                        <td id=\"T_29ace_row2_col8\" class=\"data row2 col8\" >0.904762</td>\n",
       "                        <td id=\"T_29ace_row2_col9\" class=\"data row2 col9\" >0.760417</td>\n",
       "                        <td id=\"T_29ace_row2_col10\" class=\"data row2 col10\" >0.763441</td>\n",
       "                        <td id=\"T_29ace_row2_col11\" class=\"data row2 col11\" >0.981481</td>\n",
       "            </tr>\n",
       "            <tr>\n",
       "                        <th id=\"T_29ace_level0_row3\" class=\"row_heading level0 row3\" >min</th>\n",
       "                        <td id=\"T_29ace_row3_col0\" class=\"data row3 col0\" >0.861702</td>\n",
       "                        <td id=\"T_29ace_row3_col1\" class=\"data row3 col1\" >0.764444</td>\n",
       "                        <td id=\"T_29ace_row3_col2\" class=\"data row3 col2\" >0.941520</td>\n",
       "                        <td id=\"T_29ace_row3_col3\" class=\"data row3 col3\" >0.701299</td>\n",
       "                        <td id=\"T_29ace_row3_col4\" class=\"data row3 col4\" >0.600000</td>\n",
       "                        <td id=\"T_29ace_row3_col5\" class=\"data row3 col5\" >0.691429</td>\n",
       "                        <td id=\"T_29ace_row3_col6\" class=\"data row3 col6\" >0.866667</td>\n",
       "                        <td id=\"T_29ace_row3_col7\" class=\"data row3 col7\" >0.864407</td>\n",
       "                        <td id=\"T_29ace_row3_col8\" class=\"data row3 col8\" >0.761905</td>\n",
       "                        <td id=\"T_29ace_row3_col9\" class=\"data row3 col9\" >0.673611</td>\n",
       "                        <td id=\"T_29ace_row3_col10\" class=\"data row3 col10\" >0.634409</td>\n",
       "                        <td id=\"T_29ace_row3_col11\" class=\"data row3 col11\" >0.888889</td>\n",
       "            </tr>\n",
       "    </tbody></table>"
      ],
      "text/plain": [
       "<pandas.io.formats.style.Styler at 0x1a1a73b78b0>"
      ]
     },
     "execution_count": 58,
     "metadata": {},
     "output_type": "execute_result"
    }
   ],
   "source": [
    "df_BP_test.style"
   ]
  },
  {
   "cell_type": "code",
   "execution_count": 59,
   "metadata": {},
   "outputs": [
    {
     "data": {
      "text/html": [
       "<style  type=\"text/css\" >\n",
       "</style><table id=\"T_24403_\" ><thead>    <tr>        <th class=\"index_name level0\" >BP_TRAIN</th>        <th class=\"col_heading level0 col0\" >balance</th>        <th class=\"col_heading level0 col1\" >blood</th>        <th class=\"col_heading level0 col2\" >breast</th>        <th class=\"col_heading level0 col3\" >diabetes</th>        <th class=\"col_heading level0 col4\" >iris</th>        <th class=\"col_heading level0 col5\" >liver</th>        <th class=\"col_heading level0 col6\" >nursery</th>        <th class=\"col_heading level0 col7\" >parkinson</th>        <th class=\"col_heading level0 col8\" >seeds</th>        <th class=\"col_heading level0 col9\" >tictactoe</th>        <th class=\"col_heading level0 col10\" >vertebral</th>        <th class=\"col_heading level0 col11\" >wine</th>    </tr></thead><tbody>\n",
       "                <tr>\n",
       "                        <th id=\"T_24403_level0_row0\" class=\"row_heading level0 row0\" >avg</th>\n",
       "                        <td id=\"T_24403_row0_col0\" class=\"data row0 col0\" >0.878413</td>\n",
       "                        <td id=\"T_24403_row0_col1\" class=\"data row0 col1\" >0.760357</td>\n",
       "                        <td id=\"T_24403_row0_col2\" class=\"data row0 col2\" >0.965829</td>\n",
       "                        <td id=\"T_24403_row0_col3\" class=\"data row0 col3\" >0.763004</td>\n",
       "                        <td id=\"T_24403_row0_col4\" class=\"data row0 col4\" >0.826032</td>\n",
       "                        <td id=\"T_24403_row0_col5\" class=\"data row0 col5\" >0.719118</td>\n",
       "                        <td id=\"T_24403_row0_col6\" class=\"data row0 col6\" >0.917007</td>\n",
       "                        <td id=\"T_24403_row0_col7\" class=\"data row0 col7\" >0.847549</td>\n",
       "                        <td id=\"T_24403_row0_col8\" class=\"data row0 col8\" >0.894331</td>\n",
       "                        <td id=\"T_24403_row0_col9\" class=\"data row0 col9\" >0.748060</td>\n",
       "                        <td id=\"T_24403_row0_col10\" class=\"data row0 col10\" >0.809831</td>\n",
       "                        <td id=\"T_24403_row0_col11\" class=\"data row0 col11\" >0.962366</td>\n",
       "            </tr>\n",
       "            <tr>\n",
       "                        <th id=\"T_24403_level0_row1\" class=\"row_heading level0 row1\" >std</th>\n",
       "                        <td id=\"T_24403_row1_col0\" class=\"data row1 col0\" >0.013075</td>\n",
       "                        <td id=\"T_24403_row1_col1\" class=\"data row1 col1\" >0.009254</td>\n",
       "                        <td id=\"T_24403_row1_col2\" class=\"data row1 col2\" >0.004284</td>\n",
       "                        <td id=\"T_24403_row1_col3\" class=\"data row1 col3\" >0.017276</td>\n",
       "                        <td id=\"T_24403_row1_col4\" class=\"data row1 col4\" >0.082769</td>\n",
       "                        <td id=\"T_24403_row1_col5\" class=\"data row1 col5\" >0.003325</td>\n",
       "                        <td id=\"T_24403_row1_col6\" class=\"data row1 col6\" >0.008420</td>\n",
       "                        <td id=\"T_24403_row1_col7\" class=\"data row1 col7\" >0.022378</td>\n",
       "                        <td id=\"T_24403_row1_col8\" class=\"data row1 col8\" >0.030912</td>\n",
       "                        <td id=\"T_24403_row1_col9\" class=\"data row1 col9\" >0.021617</td>\n",
       "                        <td id=\"T_24403_row1_col10\" class=\"data row1 col10\" >0.040924</td>\n",
       "                        <td id=\"T_24403_row1_col11\" class=\"data row1 col11\" >0.018073</td>\n",
       "            </tr>\n",
       "            <tr>\n",
       "                        <th id=\"T_24403_level0_row2\" class=\"row_heading level0 row2\" >max</th>\n",
       "                        <td id=\"T_24403_row2_col0\" class=\"data row2 col0\" >0.894737</td>\n",
       "                        <td id=\"T_24403_row2_col1\" class=\"data row2 col1\" >0.776291</td>\n",
       "                        <td id=\"T_24403_row2_col2\" class=\"data row2 col2\" >0.974874</td>\n",
       "                        <td id=\"T_24403_row2_col3\" class=\"data row2 col3\" >0.802607</td>\n",
       "                        <td id=\"T_24403_row2_col4\" class=\"data row2 col4\" >0.942857</td>\n",
       "                        <td id=\"T_24403_row2_col5\" class=\"data row2 col5\" >0.723039</td>\n",
       "                        <td id=\"T_24403_row2_col6\" class=\"data row2 col6\" >0.926531</td>\n",
       "                        <td id=\"T_24403_row2_col7\" class=\"data row2 col7\" >0.889706</td>\n",
       "                        <td id=\"T_24403_row2_col8\" class=\"data row2 col8\" >0.925170</td>\n",
       "                        <td id=\"T_24403_row2_col9\" class=\"data row2 col9\" >0.780597</td>\n",
       "                        <td id=\"T_24403_row2_col10\" class=\"data row2 col10\" >0.852535</td>\n",
       "                        <td id=\"T_24403_row2_col11\" class=\"data row2 col11\" >0.983871</td>\n",
       "            </tr>\n",
       "            <tr>\n",
       "                        <th id=\"T_24403_level0_row3\" class=\"row_heading level0 row3\" >min</th>\n",
       "                        <td id=\"T_24403_row3_col0\" class=\"data row3 col0\" >0.846682</td>\n",
       "                        <td id=\"T_24403_row3_col1\" class=\"data row3 col1\" >0.751434</td>\n",
       "                        <td id=\"T_24403_row3_col2\" class=\"data row3 col2\" >0.957286</td>\n",
       "                        <td id=\"T_24403_row3_col3\" class=\"data row3 col3\" >0.726257</td>\n",
       "                        <td id=\"T_24403_row3_col4\" class=\"data row3 col4\" >0.619048</td>\n",
       "                        <td id=\"T_24403_row3_col5\" class=\"data row3 col5\" >0.710784</td>\n",
       "                        <td id=\"T_24403_row3_col6\" class=\"data row3 col6\" >0.897959</td>\n",
       "                        <td id=\"T_24403_row3_col7\" class=\"data row3 col7\" >0.808824</td>\n",
       "                        <td id=\"T_24403_row3_col8\" class=\"data row3 col8\" >0.809524</td>\n",
       "                        <td id=\"T_24403_row3_col9\" class=\"data row3 col9\" >0.707463</td>\n",
       "                        <td id=\"T_24403_row3_col10\" class=\"data row3 col10\" >0.700461</td>\n",
       "                        <td id=\"T_24403_row3_col11\" class=\"data row3 col11\" >0.919355</td>\n",
       "            </tr>\n",
       "    </tbody></table>"
      ],
      "text/plain": [
       "<pandas.io.formats.style.Styler at 0x1a1a73b75e0>"
      ]
     },
     "execution_count": 59,
     "metadata": {},
     "output_type": "execute_result"
    }
   ],
   "source": [
    "df_BP_train.style"
   ]
  }
 ],
 "metadata": {
  "interpreter": {
   "hash": "0b1e9c024cf94cd363d2919155db85e2171c099a5b45c0052ef3ced9e54b407a"
  },
  "kernelspec": {
   "display_name": "Python 3.9.1 64-bit",
   "language": "python",
   "name": "python3"
  },
  "language_info": {
   "codemirror_mode": {
    "name": "ipython",
    "version": 3
   },
   "file_extension": ".py",
   "mimetype": "text/x-python",
   "name": "python",
   "nbconvert_exporter": "python",
   "pygments_lexer": "ipython3",
   "version": "3.9.1"
  },
  "orig_nbformat": 4
 },
 "nbformat": 4,
 "nbformat_minor": 2
}
